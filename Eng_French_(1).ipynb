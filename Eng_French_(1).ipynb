{
  "cells": [
    {
      "cell_type": "markdown",
      "metadata": {
        "id": "view-in-github",
        "colab_type": "text"
      },
      "source": [
        "<a href=\"https://colab.research.google.com/github/aslin72/Language-Translation/blob/main/Eng_French_(1).ipynb\" target=\"_parent\"><img src=\"https://colab.research.google.com/assets/colab-badge.svg\" alt=\"Open In Colab\"/></a>"
      ]
    },
    {
      "cell_type": "markdown",
      "metadata": {
        "collapsed": true,
        "id": "-xlW5XS_7qQG"
      },
      "source": [
        "# Machine Translation Project (English to French)"
      ]
    },
    {
      "cell_type": "code",
      "execution_count": 1,
      "metadata": {
        "id": "gq-rKuK37qQI"
      },
      "outputs": [],
      "source": [
        "import collections\n",
        "import numpy as np\n",
        "import json\n",
        "\n",
        "from keras.preprocessing.text import Tokenizer\n",
        "from keras.utils import pad_sequences\n",
        "from keras.models import Model, Sequential\n",
        "from keras.layers import Input, Dense, Embedding, GRU, LSTM, Bidirectional, Dropout, Activation, TimeDistributed, RepeatVector\n",
        "from keras.optimizers import Adam\n",
        "from keras.losses import sparse_categorical_crossentropy"
      ]
    },
    {
      "cell_type": "markdown",
      "metadata": {
        "id": "PgjNknkN7qQL"
      },
      "source": [
        "### Verify access to the GPU"
      ]
    },
    {
      "cell_type": "code",
      "execution_count": 3,
      "metadata": {
        "colab": {
          "base_uri": "https://localhost:8080/"
        },
        "id": "kCIQdrWG7qQL",
        "outputId": "aa620875-14b2-4f78-ca3e-d40262a51846"
      },
      "outputs": [
        {
          "output_type": "stream",
          "name": "stdout",
          "text": [
            "[name: \"/device:CPU:0\"\n",
            "device_type: \"CPU\"\n",
            "memory_limit: 268435456\n",
            "locality {\n",
            "}\n",
            "incarnation: 15455976639061805779\n",
            "xla_global_id: -1\n",
            ", name: \"/device:GPU:0\"\n",
            "device_type: \"GPU\"\n",
            "memory_limit: 14626652160\n",
            "locality {\n",
            "  bus_id: 1\n",
            "  links {\n",
            "  }\n",
            "}\n",
            "incarnation: 15047472933009456539\n",
            "physical_device_desc: \"device: 0, name: Tesla T4, pci bus id: 0000:00:04.0, compute capability: 7.5\"\n",
            "xla_global_id: 416903419\n",
            "]\n"
          ]
        }
      ],
      "source": [
        "from tensorflow.python.client import device_lib\n",
        "print(device_lib.list_local_devices())"
      ]
    },
    {
      "cell_type": "markdown",
      "metadata": {
        "id": "6ZG6V32U7qQM"
      },
      "source": [
        "## Dataset\n",
        "For our machine translation project, we opt for a dataset featuring a limited vocabulary, specifically designed to facilitate a more manageable and efficient training process. Unlike the extensive [WMT](http://www.statmt.org/) datasets, our chosen dataset ensures a quicker training time and demands fewer computational resources. This strategic decision aims to balance the learning experience while still achieving meaningful results within practical time constraints.\n",
        "### Load Data"
      ]
    },
    {
      "cell_type": "code",
      "execution_count": 6,
      "metadata": {
        "id": "Ppe6JQwH7qQN"
      },
      "outputs": [],
      "source": [
        "def load_data(path):\n",
        "    input_file = path\n",
        "    with open(input_file, \"r\") as f:\n",
        "        data = f.read()\n",
        "    return data.split('\\n')\n",
        "\n",
        "english_sentences = load_data('/content/english')\n",
        "french_sentences = load_data('/content/french')"
      ]
    },
    {
      "cell_type": "markdown",
      "metadata": {
        "id": "FWEqIps77qQN"
      },
      "source": [
        "### Sample Data"
      ]
    },
    {
      "cell_type": "code",
      "execution_count": 7,
      "metadata": {
        "colab": {
          "base_uri": "https://localhost:8080/"
        },
        "id": "Fs4s8MTZ7qQN",
        "outputId": "8b70f76a-27a0-4e53-cf2e-c43d22ecdaed"
      },
      "outputs": [
        {
          "output_type": "execute_result",
          "data": {
            "text/plain": [
              "['new jersey is sometimes quiet during autumn , and it is snowy in april .',\n",
              " 'the united states is usually chilly during july , and it is usually freezing in november .',\n",
              " 'california is usually quiet during march , and it is usually hot in june .',\n",
              " 'the united states is sometimes mild during june , and it is cold in september .',\n",
              " 'your least liked fruit is the grape , but my least liked is the apple .']"
            ]
          },
          "metadata": {},
          "execution_count": 7
        }
      ],
      "source": [
        "english_sentences[:5]"
      ]
    },
    {
      "cell_type": "markdown",
      "metadata": {
        "id": "vP2QVa5H7qQO"
      },
      "source": [
        "By examining the sentences, it's apparent that they have undergone preprocessing: punctuation has been delimited with spaces, and all the text has been converted to lowercase. This preprocessing serves a crucial purpose in text preparation. Firstly, delimiting punctuation with spaces ensures that each punctuation mark is treated as a separate token, aiding the model in understanding sentence structure. Secondly, converting the entire text to lowercase standardizes the input, preventing the model from distinguishing between words solely based on their casing. This uniformity facilitates more effective training and generalization, enhancing the model's ability to grasp patterns and generate accurate translations."
      ]
    },
    {
      "cell_type": "markdown",
      "metadata": {
        "id": "NMP3L0oA7qQO"
      },
      "source": [
        "Structure of the Dataset"
      ]
    },
    {
      "cell_type": "code",
      "execution_count": 8,
      "metadata": {
        "colab": {
          "base_uri": "https://localhost:8080/"
        },
        "id": "yUOviebS7qQO",
        "outputId": "5afbe529-fa7b-4bde-9dcf-799d4884945d"
      },
      "outputs": [
        {
          "output_type": "stream",
          "name": "stdout",
          "text": [
            "1823250 English words.\n",
            "227 unique English words.\n",
            "10 Most common words in the English dataset:\n",
            "\"is\" \",\" \".\" \"in\" \"it\" \"during\" \"the\" \"but\" \"and\" \"sometimes\"\n",
            "\n",
            "1961295 French words.\n",
            "355 unique French words.\n",
            "10 Most common words in the French dataset:\n",
            "\"est\" \".\" \",\" \"en\" \"il\" \"les\" \"mais\" \"et\" \"la\" \"parfois\"\n"
          ]
        }
      ],
      "source": [
        "english_words_counter = collections.Counter([word for sentence in english_sentences for word in sentence.split()])\n",
        "french_words_counter = collections.Counter([word for sentence in french_sentences for word in sentence.split()])\n",
        "\n",
        "print('{} English words.'.format(len([word for sentence in english_sentences for word in sentence.split()])))\n",
        "print('{} unique English words.'.format(len(english_words_counter)))\n",
        "print('10 Most common words in the English dataset:')\n",
        "print('\"' + '\" \"'.join(list(zip(*english_words_counter.most_common(10)))[0]) + '\"')\n",
        "\n",
        "print()\n",
        "print('{} French words.'.format(len([word for sentence in french_sentences for word in sentence.split()])))\n",
        "print('{} unique French words.'.format(len(french_words_counter)))\n",
        "print('10 Most common words in the French dataset:')\n",
        "print('\"' + '\" \"'.join(list(zip(*french_words_counter.most_common(10)))[0]) + '\"')"
      ]
    },
    {
      "cell_type": "markdown",
      "metadata": {
        "id": "7tRh_F9Q7qQP"
      },
      "source": [
        "### Preprocess\n",
        "1. Tokenize the words into ids\n",
        "2. Add padding to make all the sequences the same length."
      ]
    },
    {
      "cell_type": "code",
      "execution_count": 9,
      "metadata": {
        "colab": {
          "base_uri": "https://localhost:8080/"
        },
        "id": "NYoARj8H7qQP",
        "outputId": "2001f7eb-e8ae-41d2-933d-f61590306c5b"
      },
      "outputs": [
        {
          "output_type": "stream",
          "name": "stdout",
          "text": [
            "{'the': 1, 'quick': 2, 'a': 3, 'brown': 4, 'fox': 5, 'jumps': 6, 'over': 7, 'lazy': 8, 'dog': 9, 'by': 10, 'jove': 11, 'my': 12, 'study': 13, 'of': 14, 'lexicography': 15, 'won': 16, 'prize': 17, 'this': 18, 'is': 19, 'short': 20, 'sentence': 21}\n",
            "\n",
            "Sequence 1 in x\n",
            "  Input:  The quick brown fox jumps over the lazy dog .\n",
            "  Output: [1, 2, 4, 5, 6, 7, 1, 8, 9]\n",
            "Sequence 2 in x\n",
            "  Input:  By Jove , my quick study of lexicography won a prize .\n",
            "  Output: [10, 11, 12, 2, 13, 14, 15, 16, 3, 17]\n",
            "Sequence 3 in x\n",
            "  Input:  This is a short sentence .\n",
            "  Output: [18, 19, 3, 20, 21]\n"
          ]
        }
      ],
      "source": [
        "def tokenize(x):\n",
        "    tokenizer = Tokenizer()\n",
        "    tokenizer.fit_on_texts(x)\n",
        "    return tokenizer.texts_to_sequences(x), tokenizer\n",
        "\n",
        "text_sentences = [\n",
        "    'The quick brown fox jumps over the lazy dog .',\n",
        "    'By Jove , my quick study of lexicography won a prize .',\n",
        "    'This is a short sentence .']\n",
        "\n",
        "text_tokenized, text_tokenizer = tokenize(text_sentences)\n",
        "print(text_tokenizer.word_index)\n",
        "print()\n",
        "for sample_i, (sent, token_sent) in enumerate(zip(text_sentences, text_tokenized)):\n",
        "    print('Sequence {} in x'.format(sample_i + 1))\n",
        "    print('  Input:  {}'.format(sent))\n",
        "    print('  Output: {}'.format(token_sent))"
      ]
    },
    {
      "cell_type": "code",
      "execution_count": 10,
      "metadata": {
        "colab": {
          "base_uri": "https://localhost:8080/"
        },
        "id": "RWuDtsgj7qQP",
        "outputId": "cf488c18-b6ab-4a6a-8b4d-8086e14398b7"
      },
      "outputs": [
        {
          "output_type": "stream",
          "name": "stdout",
          "text": [
            "Sequence 1 in x\n",
            "  Input:  [1 2 4 5 6 7 1 8 9]\n",
            "  Output: [1 2 4 5 6 7 1 8 9 0]\n",
            "Sequence 2 in x\n",
            "  Input:  [10 11 12  2 13 14 15 16  3 17]\n",
            "  Output: [10 11 12  2 13 14 15 16  3 17]\n",
            "Sequence 3 in x\n",
            "  Input:  [18 19  3 20 21]\n",
            "  Output: [18 19  3 20 21  0  0  0  0  0]\n"
          ]
        }
      ],
      "source": [
        "def pad(x, length=None):\n",
        "    if length is None:\n",
        "        length = max([len(sentence) for sentence in x])\n",
        "    return pad_sequences(x, maxlen=length, padding='post')\n",
        "\n",
        "test_pad = pad(text_tokenized)\n",
        "for sample_i, (token_sent, pad_sent) in enumerate(zip(text_tokenized, test_pad)):\n",
        "    print('Sequence {} in x'.format(sample_i + 1))\n",
        "    print('  Input:  {}'.format(np.array(token_sent)))\n",
        "    print('  Output: {}'.format(pad_sent))"
      ]
    },
    {
      "cell_type": "code",
      "execution_count": 11,
      "metadata": {
        "colab": {
          "base_uri": "https://localhost:8080/"
        },
        "id": "0aCd87VT7qQQ",
        "outputId": "9b662169-f871-42fb-9474-0fcb748f453b"
      },
      "outputs": [
        {
          "output_type": "stream",
          "name": "stdout",
          "text": [
            "Data Preprocessed\n",
            "Max English sentence length: 15\n",
            "Max French sentence length: 21\n",
            "English vocabulary size: 199\n",
            "French vocabulary size: 344\n"
          ]
        }
      ],
      "source": [
        "def preprocess(x,y):\n",
        "    preprocess_x, x_tk = tokenize(x)\n",
        "    preprocess_y, y_tk = tokenize(y)\n",
        "\n",
        "    preprocess_x = pad(preprocess_x)\n",
        "    preprocess_y = pad(preprocess_y)\n",
        "\n",
        "    preprocess_y = preprocess_y.reshape(*preprocess_y.shape, 1)\n",
        "\n",
        "    return preprocess_x, preprocess_y, x_tk, y_tk\n",
        "\n",
        "preproc_english_sentences, preproc_french_sentences, english_tokenizer, french_tokenizer = preprocess(english_sentences, french_sentences)\n",
        "\n",
        "max_english_sequence_length = preproc_english_sentences.shape[1]\n",
        "max_french_sequence_length = preproc_french_sentences.shape[1]\n",
        "english_vocab_size = len(english_tokenizer.word_index)\n",
        "french_vocab_size = len(french_tokenizer.word_index)\n",
        "\n",
        "print('Data Preprocessed')\n",
        "print(\"Max English sentence length:\", max_english_sequence_length)\n",
        "print(\"Max French sentence length:\", max_french_sequence_length)\n",
        "print(\"English vocabulary size:\", english_vocab_size)\n",
        "print(\"French vocabulary size:\", french_vocab_size)"
      ]
    },
    {
      "cell_type": "markdown",
      "metadata": {
        "id": "68XBe0qz7qQQ"
      },
      "source": [
        "## Models\n",
        "- Model 1 is a simple RNN\n",
        "- Model 2 is a Bidirectional RNN\n",
        "- Model 3 is an Embedding RNN\n",
        "\n",
        "### Ids Back to Text\n",
        "The neural network will be translating the input to words ids, which isn't the final form we want.  We want the French translation.  The function `logits_to_text` will bridge the gab between the logits from the neural network to the French translation.  You'll be using this function to better understand the output of the neural network."
      ]
    },
    {
      "cell_type": "code",
      "execution_count": 15,
      "metadata": {
        "id": "lTZH1gP37qQQ"
      },
      "outputs": [],
      "source": [
        "def logits_to_text(logits, tokenizer):\n",
        "    index_to_words = {id: word for word, id in tokenizer.word_index.items()}\n",
        "    index_to_words[0] = '<PAD>'\n",
        "\n",
        "    return ' '.join([index_to_words[prediction] for prediction in np.argmax(logits, 1)])"
      ]
    },
    {
      "cell_type": "code",
      "source": [
        "from tensorflow.keras.losses import sparse_categorical_crossentropy\n",
        "import numpy as np\n",
        "\n",
        "unique_labels = np.unique(preproc_french_sentences)\n",
        "max_label_value = np.max(preproc_french_sentences)\n",
        "print(\"Unique labels:\", unique_labels)\n",
        "print(\"Max label value:\", max_label_value)\n"
      ],
      "metadata": {
        "colab": {
          "base_uri": "https://localhost:8080/"
        },
        "id": "uF1hL9ID-fzR",
        "outputId": "c4a4987a-cec7-4308-d6ba-148e06607d07"
      },
      "execution_count": 12,
      "outputs": [
        {
          "output_type": "stream",
          "name": "stdout",
          "text": [
            "Unique labels: [  0   1   2   3   4   5   6   7   8   9  10  11  12  13  14  15  16  17\n",
            "  18  19  20  21  22  23  24  25  26  27  28  29  30  31  32  33  34  35\n",
            "  36  37  38  39  40  41  42  43  44  45  46  47  48  49  50  51  52  53\n",
            "  54  55  56  57  58  59  60  61  62  63  64  65  66  67  68  69  70  71\n",
            "  72  73  74  75  76  77  78  79  80  81  82  83  84  85  86  87  88  89\n",
            "  90  91  92  93  94  95  96  97  98  99 100 101 102 103 104 105 106 107\n",
            " 108 109 110 111 112 113 114 115 116 117 118 119 120 121 122 123 124 125\n",
            " 126 127 128 129 130 131 132 133 134 135 136 137 138 139 140 141 142 143\n",
            " 144 145 146 147 148 149 150 151 152 153 154 155 156 157 158 159 160 161\n",
            " 162 163 164 165 166 167 168 169 170 171 172 173 174 175 176 177 178 179\n",
            " 180 181 182 183 184 185 186 187 188 189 190 191 192 193 194 195 196 197\n",
            " 198 199 200 201 202 203 204 205 206 207 208 209 210 211 212 213 214 215\n",
            " 216 217 218 219 220 221 222 223 224 225 226 227 228 229 230 231 232 233\n",
            " 234 235 236 237 238 239 240 241 242 243 244 245 246 247 248 249 250 251\n",
            " 252 253 254 255 256 257 258 259 260 261 262 263 264 265 266 267 268 269\n",
            " 270 271 272 273 274 275 276 277 278 279 280 281 282 283 284 285 286 287\n",
            " 288 289 290 291 292 293 294 295 296 297 298 299 300 301 302 303 304 305\n",
            " 306 307 308 309 310 311 312 313 314 315 316 317 318 319 320 321 322 323\n",
            " 324 325 326 327 328 329 330 331 332 333 334 335 336 337 338 339 340 341\n",
            " 342 343 344]\n",
            "Max label value: 344\n"
          ]
        }
      ]
    },
    {
      "cell_type": "markdown",
      "metadata": {
        "id": "zKmZS10G7qQQ"
      },
      "source": [
        "### Model 1: RNN\n",
        "![RNN](images/rnn.png)\n",
        "A basic RNN model is a good baseline for sequence data.  In this model, you'll build a RNN that translates English to French."
      ]
    },
    {
      "cell_type": "code",
      "execution_count": 13,
      "metadata": {
        "colab": {
          "base_uri": "https://localhost:8080/"
        },
        "id": "lEXlE7lF7qQR",
        "outputId": "90c3a48f-b607-4e88-dfcd-0f91cd98caf7"
      },
      "outputs": [
        {
          "output_type": "stream",
          "name": "stdout",
          "text": [
            "Epoch 1/10\n",
            "108/108 [==============================] - 12s 56ms/step - loss: 1.8638 - accuracy: 0.5507 - val_loss: nan - val_accuracy: 0.6343\n",
            "Epoch 2/10\n",
            "108/108 [==============================] - 5s 49ms/step - loss: 1.1935 - accuracy: 0.6476 - val_loss: nan - val_accuracy: 0.6794\n",
            "Epoch 3/10\n",
            "108/108 [==============================] - 5s 50ms/step - loss: 1.0532 - accuracy: 0.6730 - val_loss: nan - val_accuracy: 0.6926\n",
            "Epoch 4/10\n",
            "108/108 [==============================] - 5s 50ms/step - loss: 0.9699 - accuracy: 0.6877 - val_loss: nan - val_accuracy: 0.7104\n",
            "Epoch 5/10\n",
            "108/108 [==============================] - 6s 51ms/step - loss: 0.9180 - accuracy: 0.6974 - val_loss: nan - val_accuracy: 0.7025\n",
            "Epoch 6/10\n",
            "108/108 [==============================] - 5s 51ms/step - loss: 0.8831 - accuracy: 0.7052 - val_loss: nan - val_accuracy: 0.7340\n",
            "Epoch 7/10\n",
            "108/108 [==============================] - 5s 50ms/step - loss: 0.8371 - accuracy: 0.7198 - val_loss: nan - val_accuracy: 0.7520\n",
            "Epoch 8/10\n",
            "108/108 [==============================] - 6s 53ms/step - loss: 0.7883 - accuracy: 0.7357 - val_loss: nan - val_accuracy: 0.7583\n",
            "Epoch 9/10\n",
            "108/108 [==============================] - 5s 51ms/step - loss: 0.8136 - accuracy: 0.7237 - val_loss: nan - val_accuracy: 0.7514\n",
            "Epoch 10/10\n",
            "108/108 [==============================] - 5s 51ms/step - loss: 0.7672 - accuracy: 0.7364 - val_loss: nan - val_accuracy: 0.7398\n"
          ]
        },
        {
          "output_type": "execute_result",
          "data": {
            "text/plain": [
              "<keras.src.callbacks.History at 0x780868f95660>"
            ]
          },
          "metadata": {},
          "execution_count": 13
        }
      ],
      "source": [
        "def simple_model(input_shape, output_sequence_length, english_vocab_size, french_vocab_size):\n",
        "\n",
        "    #Hyperparameters\n",
        "    learning_rate = 0.005\n",
        "\n",
        "    # Build the layers\n",
        "    model = Sequential()\n",
        "    model.add(GRU(256, input_shape=input_shape[1:], return_sequences=True))\n",
        "    model.add(TimeDistributed(Dense(1024, activation='relu')))\n",
        "    model.add(Dropout(0.5))\n",
        "    model.add(TimeDistributed(Dense(french_vocab_size, activation='softmax')))\n",
        "\n",
        "    # Compile model\n",
        "    model.compile(loss = sparse_categorical_crossentropy,\n",
        "                  optimizer = Adam(learning_rate),\n",
        "                  metrics = ['accuracy'])\n",
        "\n",
        "    return model\n",
        "\n",
        "tmp_x = pad(preproc_english_sentences, max_french_sequence_length)\n",
        "tmp_x = tmp_x.reshape((-1, preproc_french_sentences.shape[-2], 1))\n",
        "\n",
        "#Train the neural network\n",
        "simple_rnn_model = simple_model(\n",
        "    tmp_x.shape,\n",
        "    max_french_sequence_length,\n",
        "    english_vocab_size,\n",
        "    french_vocab_size)\n",
        "\n",
        "simple_rnn_model.fit(tmp_x, preproc_french_sentences, batch_size=1024, epochs=10, validation_split=0.2)"
      ]
    },
    {
      "cell_type": "code",
      "execution_count": 16,
      "metadata": {
        "colab": {
          "base_uri": "https://localhost:8080/"
        },
        "id": "TLPdfQEt7qQR",
        "outputId": "4f13f3dc-d468-4924-ebd7-542a77f9d510"
      },
      "outputs": [
        {
          "output_type": "stream",
          "name": "stdout",
          "text": [
            "Prediciton:\n",
            "1/1 [==============================] - 0s 348ms/step\n",
            "new jersey est parfois parfois en l' et il est est en en <PAD> <PAD> <PAD> <PAD> <PAD> <PAD> <PAD> <PAD>\n",
            "\n",
            "Correct Translation:\n",
            "[\"new jersey est parfois calme pendant l' automne , et il est neigeux en avril .\"]\n",
            "\n",
            "Original text:\n",
            "['new jersey is sometimes quiet during autumn , and it is snowy in april .']\n"
          ]
        }
      ],
      "source": [
        "# Print prediction(s)\n",
        "print(\"Prediciton:\")\n",
        "print(logits_to_text(simple_rnn_model.predict(tmp_x[:1])[0], french_tokenizer))\n",
        "\n",
        "print(\"\\nCorrect Translation:\")\n",
        "print(french_sentences[:1])\n",
        "\n",
        "print('\\nOriginal text:')\n",
        "print(english_sentences[:1])"
      ]
    },
    {
      "cell_type": "markdown",
      "metadata": {
        "id": "nbcPxeoX7qQR"
      },
      "source": [
        "### Model 2: Bidirectional RNNs\n",
        "![RNN](images/bidirectional.png)\n",
        "One restriction of a RNN is that it can't see the future input, only the past.  This is where bidirectional recurrent neural networks come in.  They are able to see the future data."
      ]
    },
    {
      "cell_type": "code",
      "execution_count": 18,
      "metadata": {
        "colab": {
          "base_uri": "https://localhost:8080/"
        },
        "id": "wFUco_EI7qQR",
        "outputId": "f62676e6-c958-4649-98ae-676c4e7c28e0"
      },
      "outputs": [
        {
          "output_type": "stream",
          "name": "stdout",
          "text": [
            "Model: \"sequential_2\"\n",
            "_________________________________________________________________\n",
            " Layer (type)                Output Shape              Param #   \n",
            "=================================================================\n",
            " bidirectional_1 (Bidirecti  (None, 21, 256)           100608    \n",
            " onal)                                                           \n",
            "                                                                 \n",
            " time_distributed_4 (TimeDi  (None, 21, 1024)          263168    \n",
            " stributed)                                                      \n",
            "                                                                 \n",
            " dropout_2 (Dropout)         (None, 21, 1024)          0         \n",
            "                                                                 \n",
            " time_distributed_5 (TimeDi  (None, 21, 344)           352600    \n",
            " stributed)                                                      \n",
            "                                                                 \n",
            "=================================================================\n",
            "Total params: 716376 (2.73 MB)\n",
            "Trainable params: 716376 (2.73 MB)\n",
            "Non-trainable params: 0 (0.00 Byte)\n",
            "_________________________________________________________________\n",
            "None\n",
            "Epoch 1/20\n",
            "108/108 [==============================] - 9s 54ms/step - loss: 1.7355 - accuracy: 0.5779 - val_loss: nan - val_accuracy: 0.6535\n",
            "Epoch 2/20\n",
            "108/108 [==============================] - 5s 50ms/step - loss: 1.1529 - accuracy: 0.6578 - val_loss: nan - val_accuracy: 0.6826\n",
            "Epoch 3/20\n",
            "108/108 [==============================] - 5s 48ms/step - loss: 1.0257 - accuracy: 0.6792 - val_loss: nan - val_accuracy: 0.6970\n",
            "Epoch 4/20\n",
            "108/108 [==============================] - 5s 50ms/step - loss: 0.9456 - accuracy: 0.6919 - val_loss: nan - val_accuracy: 0.7073\n",
            "Epoch 5/20\n",
            "108/108 [==============================] - 5s 48ms/step - loss: 0.8885 - accuracy: 0.7011 - val_loss: nan - val_accuracy: 0.7073\n",
            "Epoch 6/20\n",
            "108/108 [==============================] - 5s 50ms/step - loss: 0.8509 - accuracy: 0.7083 - val_loss: nan - val_accuracy: 0.7205\n",
            "Epoch 7/20\n",
            "108/108 [==============================] - 5s 49ms/step - loss: 0.8217 - accuracy: 0.7143 - val_loss: nan - val_accuracy: 0.7338\n",
            "Epoch 8/20\n",
            "108/108 [==============================] - 5s 48ms/step - loss: 0.7911 - accuracy: 0.7217 - val_loss: nan - val_accuracy: 0.7400\n",
            "Epoch 9/20\n",
            "108/108 [==============================] - 5s 49ms/step - loss: 0.7716 - accuracy: 0.7268 - val_loss: nan - val_accuracy: 0.7463\n",
            "Epoch 10/20\n",
            "108/108 [==============================] - 5s 48ms/step - loss: 0.7575 - accuracy: 0.7319 - val_loss: nan - val_accuracy: 0.7509\n",
            "Epoch 11/20\n",
            "108/108 [==============================] - 5s 49ms/step - loss: 0.7448 - accuracy: 0.7317 - val_loss: nan - val_accuracy: 0.7542\n",
            "Epoch 12/20\n",
            "108/108 [==============================] - 5s 48ms/step - loss: 0.7234 - accuracy: 0.7359 - val_loss: nan - val_accuracy: 0.7595\n",
            "Epoch 13/20\n",
            "108/108 [==============================] - 5s 49ms/step - loss: 0.7005 - accuracy: 0.7447 - val_loss: nan - val_accuracy: 0.7740\n",
            "Epoch 14/20\n",
            "108/108 [==============================] - 5s 48ms/step - loss: 0.6867 - accuracy: 0.7540 - val_loss: nan - val_accuracy: 0.7514\n",
            "Epoch 15/20\n",
            "108/108 [==============================] - 5s 48ms/step - loss: 0.6991 - accuracy: 0.7391 - val_loss: nan - val_accuracy: 0.7617\n",
            "Epoch 16/20\n",
            "108/108 [==============================] - 5s 48ms/step - loss: 0.6814 - accuracy: 0.7441 - val_loss: nan - val_accuracy: 0.7735\n",
            "Epoch 17/20\n",
            "108/108 [==============================] - 5s 48ms/step - loss: 0.6583 - accuracy: 0.7550 - val_loss: nan - val_accuracy: 0.7766\n",
            "Epoch 18/20\n",
            "108/108 [==============================] - 5s 49ms/step - loss: 0.6380 - accuracy: 0.7648 - val_loss: nan - val_accuracy: 0.7899\n",
            "Epoch 19/20\n",
            "108/108 [==============================] - 5s 48ms/step - loss: 0.6378 - accuracy: 0.7666 - val_loss: nan - val_accuracy: 0.7961\n",
            "Epoch 20/20\n",
            "108/108 [==============================] - 5s 50ms/step - loss: 0.6150 - accuracy: 0.7768 - val_loss: nan - val_accuracy: 0.8116\n"
          ]
        },
        {
          "output_type": "execute_result",
          "data": {
            "text/plain": [
              "<keras.src.callbacks.History at 0x7808ec48d810>"
            ]
          },
          "metadata": {},
          "execution_count": 18
        }
      ],
      "source": [
        "def bd_model(input_shape, output_sequence_length, english_vocab_size, french_vocab_size):\n",
        "\n",
        "    #Hyperparameters\n",
        "    learning_rate = 0.005\n",
        "\n",
        "    # Build the layers\n",
        "    model = Sequential()\n",
        "    model.add(Bidirectional(GRU(128, return_sequences=True), input_shape=input_shape[1:]))\n",
        "    model.add(TimeDistributed(Dense(1024, activation='relu')))\n",
        "    model.add(Dropout(0.5))\n",
        "    model.add(TimeDistributed(Dense(french_vocab_size, activation='softmax')))\n",
        "\n",
        "    # Compile model\n",
        "    model.compile(loss = sparse_categorical_crossentropy,\n",
        "                  optimizer = Adam(learning_rate),\n",
        "                  metrics = ['accuracy'])\n",
        "\n",
        "    return model\n",
        "\n",
        "tmp_x = pad(preproc_english_sentences, max_french_sequence_length)\n",
        "tmp_x = tmp_x.reshape((-1, preproc_french_sentences.shape[-2], 1))\n",
        "\n",
        "# Train the neural network\n",
        "bd_rnn_model = bd_model(\n",
        "    tmp_x.shape,\n",
        "    max_french_sequence_length,\n",
        "    english_vocab_size,\n",
        "    french_vocab_size)\n",
        "\n",
        "print(bd_rnn_model.summary())\n",
        "\n",
        "bd_rnn_model.fit(tmp_x, preproc_french_sentences, batch_size=1024, epochs=20, validation_split=0.2)"
      ]
    },
    {
      "cell_type": "code",
      "execution_count": 19,
      "metadata": {
        "colab": {
          "base_uri": "https://localhost:8080/"
        },
        "id": "Zt3PNXO-7qQS",
        "outputId": "30693da1-47be-4ad9-e2ee-96a178a245d7"
      },
      "outputs": [
        {
          "output_type": "stream",
          "name": "stdout",
          "text": [
            "Prediciton:\n",
            "1/1 [==============================] - 1s 851ms/step\n",
            "new jersey est parfois calme en mois de il est il est en en <PAD> <PAD> <PAD> <PAD> <PAD> <PAD> <PAD>\n",
            "\n",
            "Correct Translation:\n",
            "[\"new jersey est parfois calme pendant l' automne , et il est neigeux en avril .\"]\n",
            "\n",
            "Original text:\n",
            "['new jersey is sometimes quiet during autumn , and it is snowy in april .']\n"
          ]
        }
      ],
      "source": [
        "# Print prediction(s)\n",
        "print(\"Prediciton:\")\n",
        "print(logits_to_text(bd_rnn_model.predict(tmp_x[:1])[0], french_tokenizer))\n",
        "\n",
        "print(\"\\nCorrect Translation:\")\n",
        "print(french_sentences[:1])\n",
        "\n",
        "print('\\nOriginal text:')\n",
        "print(english_sentences[:1])"
      ]
    },
    {
      "cell_type": "markdown",
      "metadata": {
        "id": "7h_V0qdr7qQS"
      },
      "source": [
        "### Model 3: Embedding\n",
        "![RNN](images/embedding-words.png)\n",
        "You've turned the words into ids, but there's a better representation of a word.  This is called word embeddings.  An embedding is a vector representation of the word that is close to similar words in n-dimensional space, where the n represents the size of the embedding vectors."
      ]
    },
    {
      "cell_type": "code",
      "execution_count": 20,
      "metadata": {
        "colab": {
          "base_uri": "https://localhost:8080/"
        },
        "id": "5jNOUB8P7qQS",
        "outputId": "2a23ef20-9dcb-4ee2-8bc7-85b8ef79eb32"
      },
      "outputs": [
        {
          "output_type": "stream",
          "name": "stdout",
          "text": [
            "Model: \"sequential_3\"\n",
            "_________________________________________________________________\n",
            " Layer (type)                Output Shape              Param #   \n",
            "=================================================================\n",
            " embedding (Embedding)       (None, 21, 256)           50944     \n",
            "                                                                 \n",
            " bidirectional_2 (Bidirecti  (None, 21, 512)           789504    \n",
            " onal)                                                           \n",
            "                                                                 \n",
            " time_distributed_6 (TimeDi  (None, 21, 1024)          525312    \n",
            " stributed)                                                      \n",
            "                                                                 \n",
            " dropout_3 (Dropout)         (None, 21, 1024)          0         \n",
            "                                                                 \n",
            " time_distributed_7 (TimeDi  (None, 21, 344)           352600    \n",
            " stributed)                                                      \n",
            "                                                                 \n",
            "=================================================================\n",
            "Total params: 1718360 (6.56 MB)\n",
            "Trainable params: 1718360 (6.56 MB)\n",
            "Non-trainable params: 0 (0.00 Byte)\n",
            "_________________________________________________________________\n",
            "None\n",
            "Epoch 1/25\n",
            "108/108 [==============================] - 14s 100ms/step - loss: 1.3601 - accuracy: 0.6887 - val_loss: nan - val_accuracy: 0.8577\n",
            "Epoch 2/25\n",
            "108/108 [==============================] - 10s 91ms/step - loss: 0.3508 - accuracy: 0.8884 - val_loss: nan - val_accuracy: 0.9299\n",
            "Epoch 3/25\n",
            "108/108 [==============================] - 9s 86ms/step - loss: 0.2051 - accuracy: 0.9346 - val_loss: nan - val_accuracy: 0.9535\n",
            "Epoch 4/25\n",
            "108/108 [==============================] - 10s 92ms/step - loss: 0.1458 - accuracy: 0.9542 - val_loss: nan - val_accuracy: 0.9644\n",
            "Epoch 5/25\n",
            "108/108 [==============================] - 10s 88ms/step - loss: 0.1155 - accuracy: 0.9643 - val_loss: nan - val_accuracy: 0.9713\n",
            "Epoch 6/25\n",
            "108/108 [==============================] - 10s 95ms/step - loss: 0.0937 - accuracy: 0.9713 - val_loss: nan - val_accuracy: 0.9756\n",
            "Epoch 7/25\n",
            "108/108 [==============================] - 10s 93ms/step - loss: 0.0806 - accuracy: 0.9753 - val_loss: nan - val_accuracy: 0.9777\n",
            "Epoch 8/25\n",
            "108/108 [==============================] - 10s 88ms/step - loss: 0.0728 - accuracy: 0.9777 - val_loss: nan - val_accuracy: 0.9799\n",
            "Epoch 9/25\n",
            "108/108 [==============================] - 9s 88ms/step - loss: 0.0672 - accuracy: 0.9795 - val_loss: nan - val_accuracy: 0.9809\n",
            "Epoch 10/25\n",
            "108/108 [==============================] - 10s 92ms/step - loss: 0.0594 - accuracy: 0.9819 - val_loss: nan - val_accuracy: 0.9819\n",
            "Epoch 11/25\n",
            "108/108 [==============================] - 10s 92ms/step - loss: 0.0554 - accuracy: 0.9831 - val_loss: nan - val_accuracy: 0.9827\n",
            "Epoch 12/25\n",
            "108/108 [==============================] - 9s 87ms/step - loss: 0.0523 - accuracy: 0.9840 - val_loss: nan - val_accuracy: 0.9831\n",
            "Epoch 13/25\n",
            "108/108 [==============================] - 9s 87ms/step - loss: 0.0502 - accuracy: 0.9847 - val_loss: nan - val_accuracy: 0.9836\n",
            "Epoch 14/25\n",
            "108/108 [==============================] - 9s 88ms/step - loss: 0.0482 - accuracy: 0.9853 - val_loss: nan - val_accuracy: 0.9831\n",
            "Epoch 15/25\n",
            "108/108 [==============================] - 10s 93ms/step - loss: 0.0470 - accuracy: 0.9856 - val_loss: nan - val_accuracy: 0.9834\n",
            "Epoch 16/25\n",
            "108/108 [==============================] - 9s 87ms/step - loss: 0.0446 - accuracy: 0.9863 - val_loss: nan - val_accuracy: 0.9844\n",
            "Epoch 17/25\n",
            "108/108 [==============================] - 9s 88ms/step - loss: 0.0407 - accuracy: 0.9876 - val_loss: nan - val_accuracy: 0.9847\n",
            "Epoch 18/25\n",
            "108/108 [==============================] - 9s 87ms/step - loss: 0.0409 - accuracy: 0.9875 - val_loss: nan - val_accuracy: 0.9846\n",
            "Epoch 19/25\n",
            "108/108 [==============================] - 9s 87ms/step - loss: 0.0405 - accuracy: 0.9877 - val_loss: nan - val_accuracy: 0.9849\n",
            "Epoch 20/25\n",
            "108/108 [==============================] - 9s 87ms/step - loss: 0.0399 - accuracy: 0.9879 - val_loss: nan - val_accuracy: 0.9854\n",
            "Epoch 21/25\n",
            "108/108 [==============================] - 9s 87ms/step - loss: 0.0382 - accuracy: 0.9885 - val_loss: nan - val_accuracy: 0.9852\n",
            "Epoch 22/25\n",
            "108/108 [==============================] - 9s 87ms/step - loss: 0.0373 - accuracy: 0.9887 - val_loss: nan - val_accuracy: 0.9853\n",
            "Epoch 23/25\n",
            "108/108 [==============================] - 10s 92ms/step - loss: 0.0414 - accuracy: 0.9876 - val_loss: nan - val_accuracy: 0.9837\n",
            "Epoch 24/25\n",
            "108/108 [==============================] - 10s 92ms/step - loss: 0.0532 - accuracy: 0.9844 - val_loss: nan - val_accuracy: 0.9828\n",
            "Epoch 25/25\n",
            "108/108 [==============================] - 9s 88ms/step - loss: 0.0642 - accuracy: 0.9813 - val_loss: nan - val_accuracy: 0.9828\n"
          ]
        },
        {
          "output_type": "execute_result",
          "data": {
            "text/plain": [
              "<keras.src.callbacks.History at 0x7808e02f2c50>"
            ]
          },
          "metadata": {},
          "execution_count": 20
        }
      ],
      "source": [
        "def bidirectional_embed_model(input_shape, output_sequence_length, english_vocab_size, french_vocab_size):\n",
        "\n",
        "    # Hyperparameters\n",
        "    learning_rate = 0.005\n",
        "\n",
        "    # Build the layers\n",
        "    model = Sequential()\n",
        "    model.add(Embedding(english_vocab_size, 256, input_length=input_shape[1], input_shape=input_shape[1:]))\n",
        "    model.add(Bidirectional(GRU(256, return_sequences=True)))\n",
        "    model.add(TimeDistributed(Dense(1024, activation='relu')))\n",
        "    model.add(Dropout(0.5))\n",
        "    model.add(TimeDistributed(Dense(french_vocab_size, activation='softmax')))\n",
        "\n",
        "    # Compile model\n",
        "    model.compile(loss = sparse_categorical_crossentropy,\n",
        "                  optimizer = Adam(learning_rate),\n",
        "                  metrics = ['accuracy'])\n",
        "\n",
        "    return model\n",
        "\n",
        "tmp_x = pad(preproc_english_sentences, max_french_sequence_length)\n",
        "tmp_x = tmp_x.reshape((-1, preproc_french_sentences.shape[-2]))\n",
        "\n",
        "# Build the model\n",
        "embed_rnn_model = bidirectional_embed_model(\n",
        "    tmp_x.shape,\n",
        "    max_french_sequence_length,\n",
        "    english_vocab_size,\n",
        "    french_vocab_size)\n",
        "\n",
        "print(embed_rnn_model.summary())\n",
        "\n",
        "embed_rnn_model.fit(tmp_x, preproc_french_sentences, batch_size=1024, epochs=25, validation_split=0.2)\n",
        ""
      ]
    },
    {
      "cell_type": "code",
      "execution_count": 21,
      "metadata": {
        "colab": {
          "base_uri": "https://localhost:8080/"
        },
        "id": "k2cK0XxE7qQS",
        "outputId": "9be17150-5b7c-462d-bb91-447ef6b61ec7"
      },
      "outputs": [
        {
          "output_type": "stream",
          "name": "stdout",
          "text": [
            "Prediciton:\n",
            "1/1 [==============================] - 1s 813ms/step\n",
            "new jersey est parfois calme pendant l' automne et il est neigeux en avril <PAD> <PAD> <PAD> <PAD> <PAD> <PAD> <PAD>\n",
            "\n",
            "Correct Translation:\n",
            "[\"new jersey est parfois calme pendant l' automne , et il est neigeux en avril .\"]\n",
            "\n",
            "Original text:\n",
            "['new jersey is sometimes quiet during autumn , and it is snowy in april .']\n"
          ]
        }
      ],
      "source": [
        "# Print prediction(s)\n",
        "print(\"Prediciton:\")\n",
        "print(logits_to_text(embed_rnn_model.predict(tmp_x[:1])[0], french_tokenizer))\n",
        "\n",
        "print(\"\\nCorrect Translation:\")\n",
        "print(french_sentences[:1])\n",
        "\n",
        "print('\\nOriginal text:')\n",
        "print(english_sentences[:1])"
      ]
    },
    {
      "cell_type": "code",
      "execution_count": 22,
      "metadata": {
        "id": "gTdMQ6Pv7qQT"
      },
      "outputs": [],
      "source": [
        "embed_rnn_model.save('english_to_french_model')\n",
        "# Serialize English Tokenizer to JSON\n",
        "with open('english_tokenizer.json', 'w', encoding='utf8') as f:\n",
        "    f.write(json.dumps(english_tokenizer.to_json(), ensure_ascii=False))\n",
        "\n",
        "# Serialize French Tokenizer to JSON\n",
        "with open('french_tokenizer.json', 'w', encoding='utf8') as f:\n",
        "    f.write(json.dumps(french_tokenizer.to_json(), ensure_ascii=False))\n",
        "\n",
        "# Save max lengths\n",
        "max_french_sequence_length_json = max_french_sequence_length\n",
        "with open('sequence_length.json', 'w', encoding='utf8') as f:\n",
        "    f.write(json.dumps(max_french_sequence_length_json, ensure_ascii=False))"
      ]
    },
    {
      "cell_type": "code",
      "execution_count": null,
      "metadata": {
        "id": "RmATmud27qQT"
      },
      "outputs": [],
      "source": []
    }
  ],
  "metadata": {
    "kernelspec": {
      "display_name": "Python 3",
      "name": "python3"
    },
    "language_info": {
      "codemirror_mode": {
        "name": "ipython",
        "version": 3
      },
      "file_extension": ".py",
      "mimetype": "text/x-python",
      "name": "python",
      "nbconvert_exporter": "python",
      "pygments_lexer": "ipython3",
      "version": "3.9.18"
    },
    "colab": {
      "provenance": [],
      "gpuType": "T4",
      "include_colab_link": true
    },
    "accelerator": "GPU"
  },
  "nbformat": 4,
  "nbformat_minor": 0
}